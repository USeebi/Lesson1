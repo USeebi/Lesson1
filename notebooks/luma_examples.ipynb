{
 "cells": [
  {
   "cell_type": "code",
   "execution_count": 8,
   "id": "2d018d18-8e99-4f2a-bf51-5ac4689e552c",
   "metadata": {
    "tags": []
   },
   "outputs": [
    {
     "name": "stdout",
     "output_type": "stream",
     "text": [
      "{'temp_zone0': 45.0, 'temp_zone1': 45.0, 'temp_average': 45.0}\n",
      "45.0\n"
     ]
    }
   ],
   "source": [
    "# https://github.com/rnoxy/orangepi-cputemp\n",
    "\n",
    "import subprocess as sp\n",
    "\n",
    "n_zones = 2  # for OPI 4 LTS\n",
    "cpu_temp = dict()\n",
    "total_temp = 0\n",
    "for zone in range(0, n_zones):\n",
    "    temp = (\n",
    "        float(\n",
    "            sp.check_output(\n",
    "                [\"cat\", f\"/sys/class/thermal/thermal_zone{zone}/temp\"]\n",
    "            )\n",
    "        )\n",
    "        / 1000.0\n",
    "    )\n",
    "    # round to 2 decimal places\n",
    "    temp = round(temp, 2)\n",
    "    cpu_temp[f\"temp_zone{zone}\"] = temp\n",
    "    total_temp += temp\n",
    "\n",
    "cpu_temp[\"temp_average\"] = total_temp / n_zones\n",
    "print(cpu_temp)\n",
    "temp = cpu_temp[\"temp_average\"]\n",
    "print(temp)\n"
   ]
  },
  {
   "cell_type": "code",
   "execution_count": null,
   "id": "83195954-81d8-4e52-b85f-9f9d28365e1c",
   "metadata": {},
   "outputs": [],
   "source": []
  },
  {
   "cell_type": "code",
   "execution_count": 9,
   "id": "aa072b53-07d9-434f-9284-57a277d5aebc",
   "metadata": {
    "tags": []
   },
   "outputs": [
    {
     "name": "stdout",
     "output_type": "stream",
     "text": [
      "['', '/opt/ros/noetic/lib/python3/dist-packages', '/usr/lib/python38.zip', '/usr/lib/python3.8', '/usr/lib/python3.8/lib-dynload', '/home/orangepi/.local/lib/python3.8/site-packages', '/usr/local/lib/python3.8/dist-packages', '/usr/local/lib/python3.8/dist-packages/wiringpi-2.60.1-py3.8-linux-aarch64.egg', '/usr/lib/python3/dist-packages', '/usr/lib/python3.8/dist-packages', '/home/orangepi/notebooks/luma']\n"
     ]
    }
   ],
   "source": [
    "import sys\n",
    "\n",
    "sys.path.append('/home/orangepi/notebooks/luma')\n",
    "print(sys.path)"
   ]
  },
  {
   "cell_type": "code",
   "execution_count": 12,
   "id": "8fbf366f-581a-4ff2-ac8b-b0aa316bd575",
   "metadata": {
    "tags": []
   },
   "outputs": [
    {
     "ename": "ModuleNotFoundError",
     "evalue": "No module named 'demo_opts'",
     "output_type": "error",
     "traceback": [
      "\u001b[0;31m---------------------------------------------------------------------------\u001b[0m",
      "\u001b[0;31mModuleNotFoundError\u001b[0m                       Traceback (most recent call last)",
      "Cell \u001b[0;32mIn[12], line 1\u001b[0m\n\u001b[0;32m----> 1\u001b[0m \u001b[38;5;28;01mfrom\u001b[39;00m \u001b[38;5;21;01mluma\u001b[39;00m\u001b[38;5;21;01m.\u001b[39;00m\u001b[38;5;21;01mexamples\u001b[39;00m\u001b[38;5;21;01m.\u001b[39;00m\u001b[38;5;21;01msys_info_extended\u001b[39;00m \u001b[38;5;28;01mimport\u001b[39;00m \u001b[38;5;241m*\u001b[39m\n",
      "File \u001b[0;32m~/notebooks/luma/examples/sys_info_extended.py:19\u001b[0m\n\u001b[1;32m     17\u001b[0m \u001b[38;5;28;01mfrom\u001b[39;00m \u001b[38;5;21;01mpathlib\u001b[39;00m \u001b[38;5;28;01mimport\u001b[39;00m Path\n\u001b[1;32m     18\u001b[0m \u001b[38;5;28;01mfrom\u001b[39;00m \u001b[38;5;21;01mdatetime\u001b[39;00m \u001b[38;5;28;01mimport\u001b[39;00m datetime\n\u001b[0;32m---> 19\u001b[0m \u001b[38;5;28;01mfrom\u001b[39;00m \u001b[38;5;21;01mdemo_opts\u001b[39;00m \u001b[38;5;28;01mimport\u001b[39;00m get_device\n\u001b[1;32m     20\u001b[0m \u001b[38;5;28;01mfrom\u001b[39;00m \u001b[38;5;21;01mluma\u001b[39;00m\u001b[38;5;21;01m.\u001b[39;00m\u001b[38;5;21;01mcore\u001b[39;00m\u001b[38;5;21;01m.\u001b[39;00m\u001b[38;5;21;01mrender\u001b[39;00m \u001b[38;5;28;01mimport\u001b[39;00m canvas\n\u001b[1;32m     21\u001b[0m \u001b[38;5;28;01mfrom\u001b[39;00m \u001b[38;5;21;01mPIL\u001b[39;00m \u001b[38;5;28;01mimport\u001b[39;00m ImageFont\n",
      "\u001b[0;31mModuleNotFoundError\u001b[0m: No module named 'demo_opts'"
     ]
    }
   ],
   "source": [
    "\n",
    "from luma.examples.sys_info_extended import *\n"
   ]
  },
  {
   "cell_type": "code",
   "execution_count": null,
   "id": "b10aea3d-fc8e-444d-9ed8-09733a26a72f",
   "metadata": {},
   "outputs": [],
   "source": []
  }
 ],
 "metadata": {
  "kernelspec": {
   "display_name": "Python 3 (ipykernel)",
   "language": "python",
   "name": "python3"
  },
  "language_info": {
   "codemirror_mode": {
    "name": "ipython",
    "version": 3
   },
   "file_extension": ".py",
   "mimetype": "text/x-python",
   "name": "python",
   "nbconvert_exporter": "python",
   "pygments_lexer": "ipython3",
   "version": "3.8.10"
  }
 },
 "nbformat": 4,
 "nbformat_minor": 5
}
